{
 "cells": [
  {
   "cell_type": "markdown",
   "metadata": {},
   "source": [
    "# Carfax\n",
    "### eCommerce Secondary Market for Cars\n",
    "### by Jimmy Jing"
   ]
  },
  {
   "cell_type": "code",
   "execution_count": 1,
   "metadata": {},
   "outputs": [
    {
     "name": "stdout",
     "output_type": "stream",
     "text": [
      "(26181, 11)\n"
     ]
    },
    {
     "data": {
      "text/html": [
       "<div>\n",
       "<style scoped>\n",
       "    .dataframe tbody tr th:only-of-type {\n",
       "        vertical-align: middle;\n",
       "    }\n",
       "\n",
       "    .dataframe tbody tr th {\n",
       "        vertical-align: top;\n",
       "    }\n",
       "\n",
       "    .dataframe thead th {\n",
       "        text-align: right;\n",
       "    }\n",
       "</style>\n",
       "<table border=\"1\" class=\"dataframe\">\n",
       "  <thead>\n",
       "    <tr style=\"text-align: right;\">\n",
       "      <th></th>\n",
       "      <th>brand</th>\n",
       "      <th>model</th>\n",
       "      <th>year</th>\n",
       "      <th>price</th>\n",
       "      <th>color</th>\n",
       "      <th>mileage</th>\n",
       "      <th>body_type</th>\n",
       "      <th>damage</th>\n",
       "      <th>owners</th>\n",
       "      <th>usage</th>\n",
       "      <th>service_hist</th>\n",
       "    </tr>\n",
       "  </thead>\n",
       "  <tbody>\n",
       "    <tr>\n",
       "      <th>2411</th>\n",
       "      <td>Audi</td>\n",
       "      <td>A5 Premium Plus</td>\n",
       "      <td>2018</td>\n",
       "      <td>37995</td>\n",
       "      <td>Red</td>\n",
       "      <td>8031</td>\n",
       "      <td>Hatchback</td>\n",
       "      <td>No Accident or Damage Reported</td>\n",
       "      <td>CARFAX 1-Owner</td>\n",
       "      <td>Personal Use</td>\n",
       "      <td>Service history</td>\n",
       "    </tr>\n",
       "    <tr>\n",
       "      <th>5450</th>\n",
       "      <td>Cadillac</td>\n",
       "      <td>Escalade Luxury</td>\n",
       "      <td>2012</td>\n",
       "      <td>18980</td>\n",
       "      <td>Black</td>\n",
       "      <td>98964</td>\n",
       "      <td>SUV</td>\n",
       "      <td>Accident Reported</td>\n",
       "      <td>CARFAX 1-Owner</td>\n",
       "      <td>Personal Use</td>\n",
       "      <td>Service history</td>\n",
       "    </tr>\n",
       "    <tr>\n",
       "      <th>17939</th>\n",
       "      <td>Lexus</td>\n",
       "      <td>ES 350</td>\n",
       "      <td>2015</td>\n",
       "      <td>22904</td>\n",
       "      <td>Silver</td>\n",
       "      <td>32476</td>\n",
       "      <td>Sedan</td>\n",
       "      <td>Damage Reported</td>\n",
       "      <td>CARFAX 1-Owner</td>\n",
       "      <td>Personal Use</td>\n",
       "      <td>Service history</td>\n",
       "    </tr>\n",
       "    <tr>\n",
       "      <th>19562</th>\n",
       "      <td>Mercedes-Benz</td>\n",
       "      <td>E-Class E 550</td>\n",
       "      <td>2010</td>\n",
       "      <td>16999</td>\n",
       "      <td>Silver</td>\n",
       "      <td>35367</td>\n",
       "      <td>Coupe</td>\n",
       "      <td>No Accident or Damage Reported</td>\n",
       "      <td>CARFAX 1-Owner</td>\n",
       "      <td>Personal Use</td>\n",
       "      <td>Service history</td>\n",
       "    </tr>\n",
       "    <tr>\n",
       "      <th>6806</th>\n",
       "      <td>Chevrolet</td>\n",
       "      <td>Malibu LT LT1</td>\n",
       "      <td>2018</td>\n",
       "      <td>14595</td>\n",
       "      <td>Black</td>\n",
       "      <td>45924</td>\n",
       "      <td>Sedan</td>\n",
       "      <td>Damage Reported</td>\n",
       "      <td>CARFAX 1-Owner</td>\n",
       "      <td>Rental Use</td>\n",
       "      <td>No service history</td>\n",
       "    </tr>\n",
       "  </tbody>\n",
       "</table>\n",
       "</div>"
      ],
      "text/plain": [
       "               brand            model  year  price   color  mileage  \\\n",
       "2411            Audi  A5 Premium Plus  2018  37995     Red     8031   \n",
       "5450        Cadillac  Escalade Luxury  2012  18980   Black    98964   \n",
       "17939          Lexus           ES 350  2015  22904  Silver    32476   \n",
       "19562  Mercedes-Benz    E-Class E 550  2010  16999  Silver    35367   \n",
       "6806       Chevrolet    Malibu LT LT1  2018  14595   Black    45924   \n",
       "\n",
       "       body_type                          damage          owners  \\\n",
       "2411   Hatchback  No Accident or Damage Reported  CARFAX 1-Owner   \n",
       "5450         SUV               Accident Reported  CARFAX 1-Owner   \n",
       "17939      Sedan                 Damage Reported  CARFAX 1-Owner   \n",
       "19562      Coupe  No Accident or Damage Reported  CARFAX 1-Owner   \n",
       "6806       Sedan                 Damage Reported  CARFAX 1-Owner   \n",
       "\n",
       "              usage        service_hist  \n",
       "2411   Personal Use     Service history  \n",
       "5450   Personal Use     Service history  \n",
       "17939  Personal Use     Service history  \n",
       "19562  Personal Use     Service history  \n",
       "6806     Rental Use  No service history  "
      ]
     },
     "execution_count": 1,
     "metadata": {},
     "output_type": "execute_result"
    }
   ],
   "source": [
    "import numpy as np\n",
    "import pandas as pd\n",
    "from matplotlib import pyplot as plt\n",
    "%matplotlib inline\n",
    "\n",
    "carfax_df = pd.read_csv('final_data.csv')\n",
    "print(carfax_df.shape)\n",
    "carfax_df.sample(5)"
   ]
  },
  {
   "cell_type": "code",
   "execution_count": 2,
   "metadata": {},
   "outputs": [
    {
     "data": {
      "text/html": [
       "<div>\n",
       "<style scoped>\n",
       "    .dataframe tbody tr th:only-of-type {\n",
       "        vertical-align: middle;\n",
       "    }\n",
       "\n",
       "    .dataframe tbody tr th {\n",
       "        vertical-align: top;\n",
       "    }\n",
       "\n",
       "    .dataframe thead th {\n",
       "        text-align: right;\n",
       "    }\n",
       "</style>\n",
       "<table border=\"1\" class=\"dataframe\">\n",
       "  <thead>\n",
       "    <tr style=\"text-align: right;\">\n",
       "      <th></th>\n",
       "      <th>price</th>\n",
       "      <th>mileage</th>\n",
       "    </tr>\n",
       "  </thead>\n",
       "  <tbody>\n",
       "    <tr>\n",
       "      <th>count</th>\n",
       "      <td>26181.000000</td>\n",
       "      <td>26181.000000</td>\n",
       "    </tr>\n",
       "    <tr>\n",
       "      <th>mean</th>\n",
       "      <td>21461.904778</td>\n",
       "      <td>48134.977885</td>\n",
       "    </tr>\n",
       "    <tr>\n",
       "      <th>std</th>\n",
       "      <td>12591.327584</td>\n",
       "      <td>38474.942601</td>\n",
       "    </tr>\n",
       "    <tr>\n",
       "      <th>min</th>\n",
       "      <td>899.000000</td>\n",
       "      <td>1001.000000</td>\n",
       "    </tr>\n",
       "    <tr>\n",
       "      <th>25%</th>\n",
       "      <td>13992.000000</td>\n",
       "      <td>22341.000000</td>\n",
       "    </tr>\n",
       "    <tr>\n",
       "      <th>50%</th>\n",
       "      <td>18992.000000</td>\n",
       "      <td>36100.000000</td>\n",
       "    </tr>\n",
       "    <tr>\n",
       "      <th>75%</th>\n",
       "      <td>26595.000000</td>\n",
       "      <td>62745.000000</td>\n",
       "    </tr>\n",
       "    <tr>\n",
       "      <th>max</th>\n",
       "      <td>249000.000000</td>\n",
       "      <td>387536.000000</td>\n",
       "    </tr>\n",
       "  </tbody>\n",
       "</table>\n",
       "</div>"
      ],
      "text/plain": [
       "               price        mileage\n",
       "count   26181.000000   26181.000000\n",
       "mean    21461.904778   48134.977885\n",
       "std     12591.327584   38474.942601\n",
       "min       899.000000    1001.000000\n",
       "25%     13992.000000   22341.000000\n",
       "50%     18992.000000   36100.000000\n",
       "75%     26595.000000   62745.000000\n",
       "max    249000.000000  387536.000000"
      ]
     },
     "execution_count": 2,
     "metadata": {},
     "output_type": "execute_result"
    }
   ],
   "source": [
    "carfax_df[['price','mileage']].describe()"
   ]
  },
  {
   "cell_type": "code",
   "execution_count": 3,
   "metadata": {},
   "outputs": [
    {
     "data": {
      "text/plain": [
       "<matplotlib.axes._subplots.AxesSubplot at 0x28f2cec3160>"
      ]
     },
     "execution_count": 3,
     "metadata": {},
     "output_type": "execute_result"
    },
    {
     "data": {
      "image/png": "[encoded data removed]",
      "text/plain": [
       "<Figure size 432x288 with 1 Axes>"
      ]
     },
     "metadata": {
      "needs_background": "light"
     },
     "output_type": "display_data"
    }
   ],
   "source": [
    "carfax_df.brand.value_counts().plot(kind='bar')"
   ]
  },
  {
   "cell_type": "markdown",
   "metadata": {},
   "source": [
    "Big 5 (Ford,Honda,Toyota,Nissan,BMW) make up 42.3% of all cars in dataset."
   ]
  },
  {
   "cell_type": "code",
   "execution_count": 4,
   "metadata": {},
   "outputs": [
    {
     "data": {
      "text/plain": [
       "<matplotlib.axes._subplots.AxesSubplot at 0x28f2ce96b70>"
      ]
     },
     "execution_count": 4,
     "metadata": {},
     "output_type": "execute_result"
    },
    {
     "data": {
      "text/plain": [
       "Text(0.5, 0, 'Brands')"
      ]
     },
     "execution_count": 4,
     "metadata": {},
     "output_type": "execute_result"
    },
    {
     "data": {
      "text/plain": [
       "Text(0, 0.5, 'Median Price')"
      ]
     },
     "execution_count": 4,
     "metadata": {},
     "output_type": "execute_result"
    },
    {
     "data": {
      "image/png": "[encoded data removed]",
      "text/plain": [
       "<Figure size 432x288 with 1 Axes>"
      ]
     },
     "metadata": {
      "needs_background": "light"
     },
     "output_type": "display_data"
    }
   ],
   "source": [
    "carfax_df.groupby('brand')['price'].median().sort_values(ascending=False).plot.bar(color='b')\n",
    "plt.xlabel('Brands')\n",
    "plt.ylabel('Median Price')"
   ]
  },
  {
   "cell_type": "markdown",
   "metadata": {},
   "source": [
    "The highest median values have very low counts which makes the data hard to rely on. The Big 5 are all below average in terms of median price other than BMW. #BuyBEEMERS"
   ]
  },
  {
   "cell_type": "code",
   "execution_count": 5,
   "metadata": {},
   "outputs": [
    {
     "data": {
      "text/plain": [
       "<matplotlib.axes._subplots.AxesSubplot at 0x28f2d536320>"
      ]
     },
     "execution_count": 5,
     "metadata": {},
     "output_type": "execute_result"
    },
    {
     "data": {
      "image/png": "[encoded data removed]",
      "text/plain": [
       "<Figure size 432x288 with 1 Axes>"
      ]
     },
     "metadata": {
      "needs_background": "light"
     },
     "output_type": "display_data"
    }
   ],
   "source": [
    "carfax_df.year.value_counts().plot(kind='bar')"
   ]
  },
  {
   "cell_type": "markdown",
   "metadata": {},
   "source": [
    "2016 has most number of used cars for sale. Did carmakers make bad cars in 2016?\n",
    "This decade 2010-2019 makes up 90%+ of all the cars in this dataset."
   ]
  },
  {
   "cell_type": "code",
   "execution_count": 6,
   "metadata": {},
   "outputs": [
    {
     "data": {
      "text/plain": [
       "<matplotlib.axes._subplots.AxesSubplot at 0x28f2d536208>"
      ]
     },
     "execution_count": 6,
     "metadata": {},
     "output_type": "execute_result"
    },
    {
     "data": {
      "text/plain": [
       "Text(0.5, 0, 'Type')"
      ]
     },
     "execution_count": 6,
     "metadata": {},
     "output_type": "execute_result"
    },
    {
     "data": {
      "text/plain": [
       "Text(0, 0.5, 'Count')"
      ]
     },
     "execution_count": 6,
     "metadata": {},
     "output_type": "execute_result"
    },
    {
     "data": {
      "image/png": "[encoded data removed]",
      "text/plain": [
       "<Figure size 432x288 with 1 Axes>"
      ]
     },
     "metadata": {
      "needs_background": "light"
     },
     "output_type": "display_data"
    }
   ],
   "source": [
    "carfax_df.body_type.value_counts().plot.bar(color='g')\n",
    "plt.xlabel('Type')\n",
    "plt.ylabel('Count')"
   ]
  },
  {
   "cell_type": "markdown",
   "metadata": {},
   "source": [
    "SUVs and Sedans reign supreme......or do they?"
   ]
  },
  {
   "cell_type": "code",
   "execution_count": 8,
   "metadata": {},
   "outputs": [
    {
     "data": {
      "text/plain": [
       "<matplotlib.axes._subplots.AxesSubplot at 0x28f2d6ea8d0>"
      ]
     },
     "execution_count": 8,
     "metadata": {},
     "output_type": "execute_result"
    },
    {
     "data": {
      "text/plain": [
       "Text(0.5, 0, 'Color')"
      ]
     },
     "execution_count": 8,
     "metadata": {},
     "output_type": "execute_result"
    },
    {
     "data": {
      "text/plain": [
       "Text(0, 0.5, 'Count')"
      ]
     },
     "execution_count": 8,
     "metadata": {},
     "output_type": "execute_result"
    },
    {
     "data": {
      "image/png": "[encoded data removed]",
      "text/plain": [
       "<Figure size 432x288 with 1 Axes>"
      ]
     },
     "metadata": {
      "needs_background": "light"
     },
     "output_type": "display_data"
    }
   ],
   "source": [
    "carfax_df.color.value_counts().plot.bar(color='k')\n",
    "plt.xlabel('Color')\n",
    "plt.ylabel('Count')"
   ]
  },
  {
   "cell_type": "markdown",
   "metadata": {},
   "source": [
    "           Some colors are just ugly."
   ]
  },
  {
   "cell_type": "code",
   "execution_count": 9,
   "metadata": {},
   "outputs": [
    {
     "data": {
      "text/plain": [
       "<matplotlib.axes._subplots.AxesSubplot at 0x28f2d77c2e8>"
      ]
     },
     "execution_count": 9,
     "metadata": {},
     "output_type": "execute_result"
    },
    {
     "data": {
      "text/plain": [
       "Text(0.5, 0, 'Color')"
      ]
     },
     "execution_count": 9,
     "metadata": {},
     "output_type": "execute_result"
    },
    {
     "data": {
      "text/plain": [
       "Text(0, 0.5, 'Median Price')"
      ]
     },
     "execution_count": 9,
     "metadata": {},
     "output_type": "execute_result"
    },
    {
     "data": {
      "image/png": "[encoded data removed]",
      "text/plain": [
       "<Figure size 432x288 with 1 Axes>"
      ]
     },
     "metadata": {
      "needs_background": "light"
     },
     "output_type": "display_data"
    }
   ],
   "source": [
    "carfax_df.groupby('color')['price'].median().sort_values(ascending=False).plot.bar(color='c')\n",
    "plt.xlabel('Color')\n",
    "plt.ylabel('Median Price')"
   ]
  },
  {
   "cell_type": "code",
   "execution_count": 10,
   "metadata": {},
   "outputs": [
    {
     "data": {
      "text/plain": [
       "<matplotlib.axes._subplots.AxesSubplot at 0x28f2e7cb550>"
      ]
     },
     "execution_count": 10,
     "metadata": {},
     "output_type": "execute_result"
    },
    {
     "data": {
      "text/plain": [
       "Text(0.5, 0, 'Owners')"
      ]
     },
     "execution_count": 10,
     "metadata": {},
     "output_type": "execute_result"
    },
    {
     "data": {
      "text/plain": [
       "Text(0, 0.5, 'Median Price')"
      ]
     },
     "execution_count": 10,
     "metadata": {},
     "output_type": "execute_result"
    },
    {
     "data": {
      "image/png": "[encoded data removed]",
      "text/plain": [
       "<Figure size 432x288 with 1 Axes>"
      ]
     },
     "metadata": {
      "needs_background": "light"
     },
     "output_type": "display_data"
    }
   ],
   "source": [
    "carfax_df.groupby('owners')['price'].median().sort_values(ascending=False).plot.bar(color='b')\n",
    "plt.xlabel('Owners')\n",
    "plt.ylabel('Median Price')"
   ]
  },
  {
   "cell_type": "code",
   "execution_count": 45,
   "metadata": {},
   "outputs": [
    {
     "data": {
      "text/plain": [
       "<matplotlib.axes._subplots.AxesSubplot at 0x28f3210acc0>"
      ]
     },
     "execution_count": 45,
     "metadata": {},
     "output_type": "execute_result"
    },
    {
     "data": {
      "image/png": "[encoded data removed]",
      "text/plain": [
       "<Figure size 432x288 with 1 Axes>"
      ]
     },
     "metadata": {
      "needs_background": "light"
     },
     "output_type": "display_data"
    }
   ],
   "source": [
    "carfax_df.groupby('owners')['mileage'].median().sort_values(ascending=True).plot.bar(color='r')"
   ]
  },
  {
   "cell_type": "code",
   "execution_count": 12,
   "metadata": {},
   "outputs": [
    {
     "data": {
      "text/plain": [
       "<matplotlib.axes._subplots.AxesSubplot at 0x28f2e850908>"
      ]
     },
     "execution_count": 12,
     "metadata": {},
     "output_type": "execute_result"
    },
    {
     "data": {
      "text/plain": [
       "Text(0.5, 0, 'Usage')"
      ]
     },
     "execution_count": 12,
     "metadata": {},
     "output_type": "execute_result"
    },
    {
     "data": {
      "text/plain": [
       "Text(0, 0.5, 'Median Price')"
      ]
     },
     "execution_count": 12,
     "metadata": {},
     "output_type": "execute_result"
    },
    {
     "data": {
      "image/png": "[encoded data removed]",
      "text/plain": [
       "<Figure size 432x288 with 1 Axes>"
      ]
     },
     "metadata": {
      "needs_background": "light"
     },
     "output_type": "display_data"
    }
   ],
   "source": [
    "carfax_df.groupby('usage')['price'].median().sort_values(ascending=False).plot.bar(color='b')\n",
    "plt.xlabel('Usage')\n",
    "plt.ylabel('Median Price')"
   ]
  },
  {
   "cell_type": "markdown",
   "metadata": {},
   "source": [
    "   What about the comparison of Usage and Brands? Are some brands more suited for a specific use case?"
   ]
  },
  {
   "cell_type": "code",
   "execution_count": 13,
   "metadata": {},
   "outputs": [
    {
     "data": {
      "text/plain": [
       "Personal Use      19577\n",
       "Multiple Use       2321\n",
       "Rental Use         1964\n",
       "Commercial Use     1159\n",
       "Corporate Use       917\n",
       "Lease Use           143\n",
       "Taxi Use             80\n",
       "Government Use       20\n",
       "Name: usage, dtype: int64"
      ]
     },
     "execution_count": 13,
     "metadata": {},
     "output_type": "execute_result"
    }
   ],
   "source": [
    "carfax_df.usage.value_counts()"
   ]
  },
  {
   "cell_type": "code",
   "execution_count": 14,
   "metadata": {
    "scrolled": false
   },
   "outputs": [
    {
     "data": {
      "text/plain": [
       "<matplotlib.axes._subplots.AxesSubplot at 0x28f2e8ca160>"
      ]
     },
     "execution_count": 14,
     "metadata": {},
     "output_type": "execute_result"
    },
    {
     "data": {
      "text/plain": [
       "Text(0.5, 0, 'Service History')"
      ]
     },
     "execution_count": 14,
     "metadata": {},
     "output_type": "execute_result"
    },
    {
     "data": {
      "text/plain": [
       "Text(0, 0.5, 'Median Price')"
      ]
     },
     "execution_count": 14,
     "metadata": {},
     "output_type": "execute_result"
    },
    {
     "data": {
      "image/png": "[encoded data removed]",
      "text/plain": [
       "<Figure size 432x288 with 1 Axes>"
      ]
     },
     "metadata": {
      "needs_background": "light"
     },
     "output_type": "display_data"
    }
   ],
   "source": [
    "carfax_df.groupby('service_hist')['price'].median().sort_values(ascending=False).plot.bar(color='b')\n",
    "plt.xlabel('Service History')\n",
    "plt.ylabel('Median Price')"
   ]
  },
  {
   "cell_type": "markdown",
   "metadata": {},
   "source": [
    "No service history is better? Error in dataset?"
   ]
  },
  {
   "cell_type": "code",
   "execution_count": 23,
   "metadata": {},
   "outputs": [
    {
     "data": {
      "text/plain": [
       "Service history       24242\n",
       "No service history     1939\n",
       "Name: service_hist, dtype: int64"
      ]
     },
     "execution_count": 23,
     "metadata": {},
     "output_type": "execute_result"
    },
    {
     "data": {
      "text/plain": [
       "service_hist\n",
       "No service history    25067\n",
       "Service history       37284\n",
       "Name: mileage, dtype: int64"
      ]
     },
     "execution_count": 23,
     "metadata": {},
     "output_type": "execute_result"
    }
   ],
   "source": [
    "carfax_df.service_hist.value_counts()\n",
    "carfax_df.groupby('service_hist')['mileage'].median()"
   ]
  },
  {
   "cell_type": "code",
   "execution_count": 16,
   "metadata": {},
   "outputs": [
    {
     "data": {
      "text/plain": [
       "<matplotlib.axes._subplots.AxesSubplot at 0x28f2e934588>"
      ]
     },
     "execution_count": 16,
     "metadata": {},
     "output_type": "execute_result"
    },
    {
     "data": {
      "text/plain": [
       "Text(0.5, 0, 'Damage')"
      ]
     },
     "execution_count": 16,
     "metadata": {},
     "output_type": "execute_result"
    },
    {
     "data": {
      "text/plain": [
       "Text(0, 0.5, 'Median Price')"
      ]
     },
     "execution_count": 16,
     "metadata": {},
     "output_type": "execute_result"
    },
    {
     "data": {
      "image/png": "[encoded data removed]",
      "text/plain": [
       "<Figure size 432x288 with 1 Axes>"
      ]
     },
     "metadata": {
      "needs_background": "light"
     },
     "output_type": "display_data"
    }
   ],
   "source": [
    "carfax_df.groupby('damage')['price'].median().sort_values(ascending=False).plot.bar(color='b')\n",
    "plt.xlabel('Damage')\n",
    "plt.ylabel('Median Price')"
   ]
  },
  {
   "cell_type": "markdown",
   "metadata": {},
   "source": [
    "       What does all this mean?"
   ]
  },
  {
   "cell_type": "code",
   "execution_count": 25,
   "metadata": {},
   "outputs": [
    {
     "data": {
      "text/plain": [
       "No Accident or Damage Reported    19309\n",
       "Accident Reported                  4182\n",
       "Damage Reported                    1793\n",
       "Major Damage                        344\n",
       "Accident/Minor Damage               293\n",
       "Branded Title                       185\n",
       "Accident/No Damage                   38\n",
       "Odometer Rollback                    13\n",
       "Manufacturer Buyback                 11\n",
       "Minor Damage                          6\n",
       "Odometer Problem                      4\n",
       "Vandalism Damage                      2\n",
       "Very Minor Damage                     1\n",
       "Name: damage, dtype: int64"
      ]
     },
     "execution_count": 25,
     "metadata": {},
     "output_type": "execute_result"
    },
    {
     "data": {
      "text/plain": [
       "damage\n",
       "Very Minor Damage                 114056.0\n",
       "Vandalism Damage                   97709.5\n",
       "Odometer Rollback                  94965.0\n",
       "Odometer Problem                   83114.5\n",
       "Accident/No Damage                 80900.0\n",
       "Minor Damage                       66778.5\n",
       "Accident Reported                  57457.5\n",
       "Accident/Minor Damage              50995.0\n",
       "Damage Reported                    42762.0\n",
       "Major Damage                       37603.5\n",
       "No Accident or Damage Reported     33461.0\n",
       "Branded Title                      16305.0\n",
       "Manufacturer Buyback                7067.0\n",
       "Name: mileage, dtype: float64"
      ]
     },
     "execution_count": 25,
     "metadata": {},
     "output_type": "execute_result"
    }
   ],
   "source": [
    "carfax_df.damage.value_counts()\n",
    "carfax_df.groupby('damage')['mileage'].median().sort_values(ascending=False)"
   ]
  },
  {
   "cell_type": "markdown",
   "metadata": {},
   "source": [
    "### Parting thoughts:\n",
    "\n",
    "1. Indepth Groupbys/Scatterplots with Colormaps\n",
    "2. Comparison with data on new car sales.\n",
    "3. Time Elapsed on site/Secondary market liquidity.\n",
    "4. Location Bias"
   ]
  },
  {
   "cell_type": "code",
   "execution_count": null,
   "metadata": {},
   "outputs": [],
   "source": []
  }
 ],
 "metadata": {
  "kernelspec": {
   "display_name": "Python 3",
   "language": "python",
   "name": "python3"
  },
  "language_info": {
   "codemirror_mode": {
    "name": "ipython",
    "version": 3
   },
   "file_extension": ".py",
   "mimetype": "text/x-python",
   "name": "python",
   "nbconvert_exporter": "python",
   "pygments_lexer": "ipython3",
   "version": "3.7.3"
  }
 },
 "nbformat": 4,
 "nbformat_minor": 2
}
